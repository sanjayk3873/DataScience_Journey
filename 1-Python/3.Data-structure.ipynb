{
 "cells": [
  {
   "cell_type": "markdown",
   "metadata": {},
   "source": [
    "## 3. Data Structure \n",
    "- A data structure is a storage that is used to store and organise data. It is a way of arranging data on a computer, so that it can be accessed and updated effectively.\n",
    "\n"
   ]
  },
  {
   "cell_type": "markdown",
   "metadata": {},
   "source": [
    "# 1. List  [ ]\n",
    "   - Heterogenous collection of data\n",
    "   - Index starts from 0\n",
    "   - List elements are mutable via indexing\n",
    "   - Defined using [ ]\n",
    "   - Both forward and backward indexing are possible\n",
    "   - Lst = [1,2,3,4,5,[3,4,5],[5,6,7]]\n",
    "   - 0,1,2,3,4,     5,      6   forward indexing\n",
    "   - -7,-6,-5,-4,-3, -2,    -1  backward indexing\n",
    "\n",
    "####   Functions/Methods available for List\n",
    "   - append(item) :Adds an item to the end of the list\n",
    "   - clear(): Removes all elements from the list, making it empty.\n",
    "   - copy(): Returns a shallow copy of the list.\n",
    "   - count(item): Counts how many times an item appears in the list.\n",
    "   - extend(iterable): Adds elements of an iterable (like a list or tuple) to the end of the list.\n",
    "   - index(item, start, end): Finds the index of the first occurrence of an item, optionally within a range.\n",
    "   - insert(index, item): Inserts an item at a specified index.\n",
    "   - pop(index): Removes and returns the item at the specified index (last item if index is not provided).\n",
    "   - remove(item): Removes the first occurrence of the specified item.\n",
    "   - reverse(): Reverses the order of items in the list.\n",
    "   - sort(key=None, reverse=False): Sorts the list in place. By default, sorts in ascending order, but you can specify a key function or sort in  reverse order.\n",
    "#### Dunder (Double-underscore) Methods\n",
    "   - __add__: Enables the use of + to concatenate two lists.\n",
    "   - __contains__: Enables the use of in to check for membership.\n",
    "   - __getitem__ and __setitem__: Access or assign items by index.\n",
    "   - __len__: Returns the length of the list when len() is called.\n",
    "   - __iter__: Allows the list to be iterable, enabling use in loops.\n",
    "   - __repr__ and __str__: Defines how the list appears when printed.\n",
    "   - __mul__: Enables list repetition using the * operator.\n",
    "   - __delitem__: Allows deletion of an item by index.\n",
    "   - __reversed__: Allows reversed(list) to return the list in reverse order.\n",
    "   \n",
    "\n",
    "   "
   ]
  },
  {
   "cell_type": "markdown",
   "metadata": {},
   "source": [
    "# 2. Sets { } \n",
    "- Define a set with { }, flower bracket\n",
    "- set doesnt allow duplicate data\n",
    "- set doesnt allow the via indexing\n",
    "- Immutable\n",
    "- Position of variable wont be preserved - Position of data is not matter here\n",
    "- We use set to remove duplicates \n",
    "- usage is faster, because they dont have indexing"
   ]
  },
  {
   "cell_type": "markdown",
   "metadata": {},
   "source": [
    "# 3. Dictionary {key:value}\n",
    "- Dictionaries extend the usage of set\n",
    "- Dictionaries values are mutable using Key\n",
    "- Dictionary store data using {Key:Value} format\n",
    "- Key is unique & values can be duplicated\n",
    "- Retrieval is through key\n",
    "- duplicate value is not allowed, if there, key-value will be overwritten\n",
    "- cant change key, key are immutable"
   ]
  },
  {
   "cell_type": "markdown",
   "metadata": {},
   "source": [
    "# 4. Tuple ()\n",
    "- Tuple allows heterogenous data\n",
    "- syntax is using '('\n",
    "- Tuple doesnt allow item assignment, ie., immutable\n",
    "- We can do all functions we did with list except mutation\n",
    "- Tuple objects ae callable\n",
    "- Application: Data which wont change, like latitude or longitude."
   ]
  },
  {
   "cell_type": "markdown",
   "metadata": {},
   "source": [
    "# 5. Loops\n",
    "### 5.1. Conditional Loops = if else loop\n",
    "- are logical statements that check for a condition, and if that check satisfy it exicutes the statements given otherwise the opposite statement given.\n",
    "- Logical statements\n",
    "- Under conditional loops, there are, \n",
    "###  - Ladder loops\n",
    "###  - Nested loops\n"
   ]
  },
  {
   "cell_type": "code",
   "execution_count": 2,
   "metadata": {},
   "outputs": [
    {
     "ename": "SyntaxError",
     "evalue": "invalid syntax (1479954408.py, line 2)",
     "output_type": "error",
     "traceback": [
      "\u001b[1;36m  Cell \u001b[1;32mIn[2], line 2\u001b[1;36m\u001b[0m\n\u001b[1;33m    if(class is legit):\u001b[0m\n\u001b[1;37m       ^\u001b[0m\n\u001b[1;31mSyntaxError\u001b[0m\u001b[1;31m:\u001b[0m invalid syntax\n"
     ]
    }
   ],
   "source": [
    "#Example\n",
    "if(class is legit):\n",
    "  if(trainer is good):\n",
    "    if(reviews are good):\n",
    "      if(syllabus / curriculum is good):\n",
    "        if(timings match):\n",
    "          Join\n",
    "  else:\n",
    "    dont join\n",
    "else:\n",
    "  Dont Join"
   ]
  },
  {
   "cell_type": "code",
   "execution_count": null,
   "metadata": {},
   "outputs": [],
   "source": [
    "if statement:\n",
    "  jbj\n",
    "  dsds\n",
    "  ds\n",
    "  ds\n",
    "  sdsd\n",
    "  dsd\n",
    "  <IF BLOCK>\n",
    "  if statement2:\n",
    "    <SECOND IF BLOcK>\n",
    "    if statement3:\n",
    "      <THIRD IF BLOCK>\n",
    "    else:\n",
    "      <third if's else>\n",
    "  else:\n",
    "    <SEcond if's else>\n",
    "else:\n",
    "  <first if's' ELSE BLOCK>\n"
   ]
  },
  {
   "cell_type": "markdown",
   "metadata": {},
   "source": [
    "Note: Here the tab space a.k.a indentation defines a block in python. To exit from the block, put a backspace/backindent."
   ]
  },
  {
   "cell_type": "code",
   "execution_count": 2,
   "metadata": {},
   "outputs": [
    {
     "name": "stdout",
     "output_type": "stream",
     "text": [
      "Greater than five\n"
     ]
    }
   ],
   "source": [
    "user_input = int(input(\"what is your age\"))\n",
    "if user_input > 5:\n",
    "  print(\"Greater than five\")\n",
    "else:\n",
    "  print(\"less than five\")"
   ]
  },
  {
   "cell_type": "markdown",
   "metadata": {},
   "source": [
    "### Operators to be used inside IF\n",
    "1. Equal to operator: a == b\n",
    "2. Not Equal to: a != b\n",
    "3. Less than: a < b\n",
    "4. Greater than: a > b\n",
    "5. Less than or equal: a <= b\n",
    "6. Greater than or equal: a >=b\n",
    "\n",
    "### Logical Operators:\n",
    "1. and\n",
    "2. or\n",
    "3. not"
   ]
  },
  {
   "cell_type": "markdown",
   "metadata": {},
   "source": [
    "### - ELIF -to give condition inside Else"
   ]
  },
  {
   "cell_type": "code",
   "execution_count": null,
   "metadata": {},
   "outputs": [],
   "source": [
    "if Condition: #First check point\n",
    "  Statement\n",
    "elif Condition: #Alternate fallback second check point\n",
    "  Statement\n",
    "elif Condtion:\n",
    "  Statement\n",
    "else: #Last resort statement\n",
    "  default statement"
   ]
  },
  {
   "cell_type": "code",
   "execution_count": null,
   "metadata": {},
   "outputs": [],
   "source": [
    "get input - Mark\n",
    ">80 - A - if\n",
    ">90 - S - if\n",
    "50 - 80- included - B -elif\n",
    "else: - F"
   ]
  },
  {
   "cell_type": "code",
   "execution_count": 12,
   "metadata": {},
   "outputs": [
    {
     "name": "stdout",
     "output_type": "stream",
     "text": [
      "F\n"
     ]
    }
   ],
   "source": [
    "user_input=int(input(\"Your total Marks: \"))\n",
    "if user_input > 90:\n",
    "    print(\"S\")\n",
    "elif user_input >80:\n",
    "    print(\"A\")\n",
    "elif 50 <= user_input <= 80:\n",
    "    print(\"B\")\n",
    "else:\n",
    "    print(\"F\") "
   ]
  },
  {
   "cell_type": "markdown",
   "metadata": {},
   "source": [
    "### Ladder loops"
   ]
  },
  {
   "cell_type": "code",
   "execution_count": null,
   "metadata": {},
   "outputs": [],
   "source": [
    "if Condition:\n",
    "  <BlOck>\n",
    "if Condition:\n",
    "  <Block>\n",
    "if COnditioon:\n",
    "  <Block>"
   ]
  },
  {
   "cell_type": "markdown",
   "metadata": {},
   "source": [
    "### Nested ladder"
   ]
  },
  {
   "cell_type": "code",
   "execution_count": null,
   "metadata": {},
   "outputs": [],
   "source": [
    "if condition:\n",
    "  if condition:\n",
    "    if condition:\n",
    "      if condition:\n",
    "        pass"
   ]
  },
  {
   "cell_type": "markdown",
   "metadata": {},
   "source": [
    "Can give \"pass\" to just to pass the program"
   ]
  },
  {
   "cell_type": "markdown",
   "metadata": {},
   "source": [
    "## 5.2. Iterative loops\n",
    "Repeat, recaptitulate, go through again, go over again, run through again, or run through each item\n",
    "###   5.2.1. While loop\n",
    "###   5.2.2. for loop"
   ]
  },
  {
   "cell_type": "markdown",
   "metadata": {},
   "source": [
    "? Problem: There are 30 students in a class room. Need to pick every 10th student to assign as leaders. Write a program"
   ]
  },
  {
   "cell_type": "markdown",
   "metadata": {},
   "source": [
    "### 5.2.1. the \"while\" loop runs as long as the variable j is less than 31, or assigned value\n",
    "- Definition: In programming, while loops are used to iterate over elements, particularly when we want to repeat a block of code until a certain condition is met. A while loop typically includes:\n",
    "\n",
    "- Start condition: The initial setup before entering the loop.\n",
    "- End condition: A condition checked at the start of each iteration, which determines if the loop should continue or stop.\n",
    "- Checking condition: Evaluates the loop's end condition to control the loop's execution.\n",
    "- Increment or update: A step that modifies a variable to move closer to the end condition, preventing an infinite loop.\n",
    "- While loops are especially useful for iterating through data until a specific requirement is satisfied."
   ]
  },
  {
   "cell_type": "code",
   "execution_count": 18,
   "metadata": {},
   "outputs": [
    {
     "name": "stdout",
     "output_type": "stream",
     "text": [
      "10\n",
      "LEADER\n",
      "20\n",
      "LEADER\n",
      "30\n",
      "LEADER\n"
     ]
    }
   ],
   "source": [
    "j = 0\n",
    "while j<31:\n",
    "    if (j == 10) or (j == 20) or (j == 30):\n",
    "        print (j)\n",
    "        print ('LEADER')\n",
    "    j = j+1"
   ]
  },
  {
   "cell_type": "code",
   "execution_count": 20,
   "metadata": {},
   "outputs": [
    {
     "name": "stdout",
     "output_type": "stream",
     "text": [
      "10\n",
      "LEADER\n",
      "20\n",
      "LEADER\n",
      "30\n",
      "LEADER\n"
     ]
    }
   ],
   "source": [
    "#In a better way, we can also write it as,\n",
    "j = 0\n",
    "while j<31:\n",
    "    if j in [10, 20, 30]:\n",
    "        print (j)\n",
    "        print ('LEADER')\n",
    "    j = j+1"
   ]
  },
  {
   "cell_type": "code",
   "execution_count": 24,
   "metadata": {},
   "outputs": [
    {
     "name": "stdout",
     "output_type": "stream",
     "text": [
      "10th person is LEADER\n",
      "20th person is LEADER\n",
      "30th person is LEADER\n"
     ]
    }
   ],
   "source": [
    "#If I want the output as 10th person is LEADER,\n",
    "j = 0\n",
    "while j<31:\n",
    "    if j in [10, 20, 30]:\n",
    "        print (f\"{j}th person is LEADER\")  #Here i used f-string, where inside f string {} the values are variable.\n",
    "        #print ('LEADER')\n",
    "    j = j+1"
   ]
  },
  {
   "cell_type": "code",
   "execution_count": 16,
   "metadata": {},
   "outputs": [
    {
     "name": "stdout",
     "output_type": "stream",
     "text": [
      "0\n",
      "2\n",
      "4\n",
      "6\n",
      "8\n",
      "10\n"
     ]
    }
   ],
   "source": [
    "i=0\n",
    "while i<11:\n",
    "    print(i)\n",
    "    i=i+2"
   ]
  },
  {
   "cell_type": "markdown",
   "metadata": {},
   "source": [
    "Note: Range function:"
   ]
  },
  {
   "cell_type": "code",
   "execution_count": 25,
   "metadata": {},
   "outputs": [
    {
     "data": {
      "text/plain": [
       "100"
      ]
     },
     "execution_count": 25,
     "metadata": {},
     "output_type": "execute_result"
    }
   ],
   "source": [
    "len(list(range(0,100)))"
   ]
  },
  {
   "cell_type": "markdown",
   "metadata": {},
   "source": [
    "### 5.2.2. FOR loop\n",
    "In programming, for loops are used to iterate over a sequence (like a list, tuple, dictionary, set, or string) or any other iterable. They provide a way to repeat a block of code for each item in the sequence without needing to manage start, end, or increment conditions manually. A for loop typically includes:\n",
    "\n",
    "- Iterable: The sequence or collection to loop through, such as a list or range of numbers.\n",
    "- Iteration variable: A variable that takes on each value in the iterable, one at a time, for each loop iteration.\n",
    "- Loop body: The block of code that executes for each item in the iterable.\n",
    "- For loops are particularly useful for performing actions on each element of a collection, automatically moving through the sequence until the end of the iterable is reached.\n",
    "\n",
    "\n",
    "\n",
    "\n",
    "\n",
    "\n"
   ]
  },
  {
   "cell_type": "code",
   "execution_count": 27,
   "metadata": {},
   "outputs": [
    {
     "name": "stdout",
     "output_type": "stream",
     "text": [
      "<class 'tuple'>\n",
      "Laxmi\n",
      "Indrajeet\n",
      "Ganesh\n",
      "Aadhavan\n",
      "Guru\n"
     ]
    }
   ],
   "source": [
    "lst = ('Laxmi','Indrajeet','Ganesh','Aadhavan','Guru')\n",
    "print(type(lst))  #Entry control loop\n",
    "for i in lst:\n",
    "    print(i)"
   ]
  },
  {
   "cell_type": "markdown",
   "metadata": {},
   "source": [
    "### RANGE - function\n",
    "The range() function in Python generates a sequence of numbers and is commonly used for looping a specific number of times. It is particularly useful with for loops when you need to repeat actions for a defined number of iterations.\n",
    "\n",
    "* Key Points of range()\n",
    "- Syntax: range(start, stop, step)\n",
    "- start: The beginning of the sequence (default is 0).\n",
    "- stop: The end of the sequence (not inclusive, meaning the sequence stops just before this value).\n",
    "- step: The amount by which to increment the sequence (default is 1).\n",
    "* Usage:\n",
    "- range(5) generates numbers from 0 to 4.\n",
    "- range(2, 10) generates numbers from 2 to 9.\n",
    "- range(1, 10, 2) generates numbers from 1 to 9, skipping every other number (1, 3, 5, 7, 9).\n",
    "- The range() function is efficient as it generates numbers on demand, making it memory-friendly and fast for iterations, especially with large sequences."
   ]
  },
  {
   "cell_type": "markdown",
   "metadata": {},
   "source": []
  },
  {
   "cell_type": "code",
   "execution_count": 19,
   "metadata": {},
   "outputs": [
    {
     "name": "stdout",
     "output_type": "stream",
     "text": [
      "[0, 5, 10, 15, 20, 25, 30, 35, 40, 45, 50, 55, 60, 65, 70, 75, 80, 85, 90, 95, 100]\n"
     ]
    }
   ],
   "source": [
    "list(range(0,105,5))\n",
    "print(i)"
   ]
  },
  {
   "cell_type": "code",
   "execution_count": 31,
   "metadata": {},
   "outputs": [
    {
     "name": "stdout",
     "output_type": "stream",
     "text": [
      "2\n",
      "4\n",
      "6\n",
      "8\n",
      "10\n",
      "12\n",
      "14\n",
      "16\n",
      "18\n",
      "20\n",
      "22\n",
      "24\n",
      "26\n",
      "28\n",
      "30\n",
      "32\n",
      "34\n",
      "36\n",
      "38\n",
      "40\n",
      "42\n",
      "44\n",
      "46\n",
      "48\n",
      "50\n",
      "52\n",
      "54\n",
      "56\n",
      "58\n",
      "60\n",
      "62\n",
      "64\n",
      "66\n",
      "68\n",
      "70\n",
      "72\n",
      "74\n",
      "76\n",
      "78\n",
      "80\n",
      "82\n",
      "84\n",
      "86\n",
      "88\n",
      "90\n",
      "92\n",
      "94\n",
      "96\n",
      "98\n",
      "100\n"
     ]
    }
   ],
   "source": [
    "# Problem: Create a list of even number, 0 to hundred\n",
    "for i in range(2,102,2):\n",
    "    print(i)"
   ]
  },
  {
   "cell_type": "code",
   "execution_count": null,
   "metadata": {},
   "outputs": [
    {
     "data": {
      "text/plain": [
       "[2,\n",
       " 4,\n",
       " 6,\n",
       " 8,\n",
       " 10,\n",
       " 12,\n",
       " 14,\n",
       " 16,\n",
       " 18,\n",
       " 20,\n",
       " 22,\n",
       " 24,\n",
       " 26,\n",
       " 28,\n",
       " 30,\n",
       " 32,\n",
       " 34,\n",
       " 36,\n",
       " 38,\n",
       " 40,\n",
       " 42,\n",
       " 44,\n",
       " 46,\n",
       " 48,\n",
       " 50,\n",
       " 52,\n",
       " 54,\n",
       " 56,\n",
       " 58,\n",
       " 60,\n",
       " 62,\n",
       " 64,\n",
       " 66,\n",
       " 68,\n",
       " 70,\n",
       " 72,\n",
       " 74,\n",
       " 76,\n",
       " 78,\n",
       " 80,\n",
       " 82,\n",
       " 84,\n",
       " 86,\n",
       " 88,\n",
       " 90,\n",
       " 92,\n",
       " 94,\n",
       " 96,\n",
       " 98,\n",
       " 100]"
      ]
     },
     "execution_count": 39,
     "metadata": {},
     "output_type": "execute_result"
    }
   ],
   "source": [
    "list(range(2,101,2))\n",
    "#list(range(2,102,2))   or"
   ]
  },
  {
   "cell_type": "markdown",
   "metadata": {},
   "source": [
    "## Operations inside the loops\n",
    "### 1. Continue\n",
    "when it reach the given value, the program will skip it and continue the program\n",
    "### 2. Break\n",
    "when it reach the given value, th program will stop the entire program"
   ]
  },
  {
   "cell_type": "markdown",
   "metadata": {},
   "source": []
  },
  {
   "cell_type": "code",
   "execution_count": 71,
   "metadata": {},
   "outputs": [],
   "source": [
    "#CONTINUE\n",
    "team=['sagar', 'mudhu', 'SK', 'CH', 'Raja', 'ravi']\n",
    "squad=[]\n",
    "for i in team:\n",
    "    if i == 'SK':\n",
    "        continue\n",
    "    squad.append(i)"
   ]
  },
  {
   "cell_type": "code",
   "execution_count": 72,
   "metadata": {},
   "outputs": [
    {
     "data": {
      "text/plain": [
       "['sagar', 'mudhu', 'CH', 'Raja', 'ravi']"
      ]
     },
     "execution_count": 72,
     "metadata": {},
     "output_type": "execute_result"
    }
   ],
   "source": [
    "squad"
   ]
  },
  {
   "cell_type": "code",
   "execution_count": 76,
   "metadata": {},
   "outputs": [
    {
     "data": {
      "text/plain": [
       "['sagar', 'mudhu', 'SK', 'CH', 'Raja', 'ravi']"
      ]
     },
     "execution_count": 76,
     "metadata": {},
     "output_type": "execute_result"
    }
   ],
   "source": [
    "team"
   ]
  },
  {
   "cell_type": "code",
   "execution_count": 74,
   "metadata": {},
   "outputs": [],
   "source": [
    "team=['sagar', 'mudhu', 'SK', 'CH', 'Raja', 'ravi']\n",
    "squad=[]\n",
    "for i in team:\n",
    "    if i == 'SK':\n",
    "        break\n",
    "    squad.append(i)"
   ]
  },
  {
   "cell_type": "code",
   "execution_count": 75,
   "metadata": {},
   "outputs": [
    {
     "data": {
      "text/plain": [
       "['sagar', 'mudhu']"
      ]
     },
     "execution_count": 75,
     "metadata": {},
     "output_type": "execute_result"
    }
   ],
   "source": [
    "squad"
   ]
  },
  {
   "cell_type": "markdown",
   "metadata": {},
   "source": [
    "# 6. String \" \""
   ]
  },
  {
   "cell_type": "markdown",
   "metadata": {},
   "source": []
  }
 ],
 "metadata": {
  "kernelspec": {
   "display_name": "base",
   "language": "python",
   "name": "python3"
  },
  "language_info": {
   "codemirror_mode": {
    "name": "ipython",
    "version": 3
   },
   "file_extension": ".py",
   "mimetype": "text/x-python",
   "name": "python",
   "nbconvert_exporter": "python",
   "pygments_lexer": "ipython3",
   "version": "3.11.5"
  }
 },
 "nbformat": 4,
 "nbformat_minor": 2
}
