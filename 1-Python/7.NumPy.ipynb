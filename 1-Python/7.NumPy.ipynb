{
 "cells": [
  {
   "cell_type": "markdown",
   "metadata": {},
   "source": [
    "## NumPy = Numerical Python\n",
    "### A library in Python\n",
    "### Support large and multi-dimensional arrays and matrices\n",
    "### Allow mathematical operations\n",
    "### More memory efficient than Python\n",
    "### specifying the data type (dtype) in NumPy allows for precise control over memory usage and how data is stored and processed"
   ]
  },
  {
   "cell_type": "code",
   "execution_count": 14,
   "metadata": {},
   "outputs": [],
   "source": [
    "a = [1,2,3,4,5,10]"
   ]
  },
  {
   "cell_type": "code",
   "execution_count": 3,
   "metadata": {},
   "outputs": [],
   "source": [
    "b=[[1],[2],[3],[5]]"
   ]
  },
  {
   "cell_type": "code",
   "execution_count": 15,
   "metadata": {},
   "outputs": [
    {
     "data": {
      "text/plain": [
       "[1, 2, 3, 4, 5, 10]"
      ]
     },
     "execution_count": 15,
     "metadata": {},
     "output_type": "execute_result"
    }
   ],
   "source": [
    "a"
   ]
  },
  {
   "cell_type": "code",
   "execution_count": 5,
   "metadata": {},
   "outputs": [
    {
     "data": {
      "text/plain": [
       "[[1], [2], [3], [5]]"
      ]
     },
     "execution_count": 5,
     "metadata": {},
     "output_type": "execute_result"
    }
   ],
   "source": [
    "b"
   ]
  },
  {
   "cell_type": "code",
   "execution_count": 6,
   "metadata": {},
   "outputs": [],
   "source": [
    "import numpy"
   ]
  },
  {
   "cell_type": "code",
   "execution_count": 8,
   "metadata": {},
   "outputs": [],
   "source": [
    "import numpy as np #Package an alias name np to be used in our code, this is just for user friendliness"
   ]
  },
  {
   "cell_type": "code",
   "execution_count": 16,
   "metadata": {},
   "outputs": [],
   "source": [
    "arr=np.array(a)"
   ]
  },
  {
   "cell_type": "code",
   "execution_count": 17,
   "metadata": {},
   "outputs": [
    {
     "data": {
      "text/plain": [
       "(6,)"
      ]
     },
     "execution_count": 17,
     "metadata": {},
     "output_type": "execute_result"
    }
   ],
   "source": [
    "arr.shape"
   ]
  },
  {
   "cell_type": "code",
   "execution_count": 18,
   "metadata": {},
   "outputs": [
    {
     "data": {
      "text/plain": [
       "numpy.ndarray"
      ]
     },
     "execution_count": 18,
     "metadata": {},
     "output_type": "execute_result"
    }
   ],
   "source": [
    "type(arr)"
   ]
  },
  {
   "cell_type": "markdown",
   "metadata": {},
   "source": [
    "numpy.ndarray - is the primary type used by the NumPy library to represent multidimensional arrays, which are also known as n-dimensional arrays. This type is extremely useful for numerical computations, as it provides an efficient way to store and manipulate large sets of data in a structured format."
   ]
  },
  {
   "cell_type": "code",
   "execution_count": 20,
   "metadata": {},
   "outputs": [
    {
     "data": {
      "text/plain": [
       "dtype('int32')"
      ]
     },
     "execution_count": 20,
     "metadata": {},
     "output_type": "execute_result"
    }
   ],
   "source": [
    "arr.dtype"
   ]
  },
  {
   "cell_type": "code",
   "execution_count": 13,
   "metadata": {},
   "outputs": [
    {
     "name": "stdout",
     "output_type": "stream",
     "text": [
      "\u001b[1;31mType:\u001b[0m            dtype[int32]\n",
      "\u001b[1;31mString form:\u001b[0m     int32\n",
      "\u001b[1;31mLength:\u001b[0m          0\n",
      "\u001b[1;31mFile:\u001b[0m            c:\\users\\sanja\\anaconda3\\lib\\site-packages\\numpy\\__init__.py\n",
      "\u001b[1;31mDocstring:\u001b[0m       <no docstring>\n",
      "\u001b[1;31mClass docstring:\u001b[0m\n",
      "dtype(dtype, align=False, copy=False)\n",
      "\n",
      "Create a data type object.\n",
      "\n",
      "A numpy array is homogeneous, and contains elements described by a\n",
      "dtype object. A dtype object can be constructed from different\n",
      "combinations of fundamental numeric types.\n",
      "\n",
      "Parameters\n",
      "----------\n",
      "dtype\n",
      "    Object to be converted to a data type object.\n",
      "align : bool, optional\n",
      "    Add padding to the fields to match what a C compiler would output\n",
      "    for a similar C-struct. Can be ``True`` only if `obj` is a dictionary\n",
      "    or a comma-separated string. If a struct dtype is being created,\n",
      "    this also sets a sticky alignment flag ``isalignedstruct``.\n",
      "copy : bool, optional\n",
      "    Make a new copy of the data-type object. If ``False``, the result\n",
      "    may just be a reference to a built-in data-type object.\n",
      "\n",
      "See also\n",
      "--------\n",
      "result_type\n",
      "\n",
      "Examples\n",
      "--------\n",
      "Using array-scalar type:\n",
      "\n",
      ">>> np.dtype(np.int16)\n",
      "dtype('int16')\n",
      "\n",
      "Structured type, one field name 'f1', containing int16:\n",
      "\n",
      ">>> np.dtype([('f1', np.int16)])\n",
      "dtype([('f1', '<i2')])\n",
      "\n",
      "Structured type, one field named 'f1', in itself containing a structured\n",
      "type with one field:\n",
      "\n",
      ">>> np.dtype([('f1', [('f1', np.int16)])])\n",
      "dtype([('f1', [('f1', '<i2')])])\n",
      "\n",
      "Structured type, two fields: the first field contains an unsigned int, the\n",
      "second an int32:\n",
      "\n",
      ">>> np.dtype([('f1', np.uint64), ('f2', np.int32)])\n",
      "dtype([('f1', '<u8'), ('f2', '<i4')])\n",
      "\n",
      "Using array-protocol type strings:\n",
      "\n",
      ">>> np.dtype([('a','f8'),('b','S10')])\n",
      "dtype([('a', '<f8'), ('b', 'S10')])\n",
      "\n",
      "Using comma-separated field formats.  The shape is (2,3):\n",
      "\n",
      ">>> np.dtype(\"i4, (2,3)f8\")\n",
      "dtype([('f0', '<i4'), ('f1', '<f8', (2, 3))])\n",
      "\n",
      "Using tuples.  ``int`` is a fixed type, 3 the field's shape.  ``void``\n",
      "is a flexible type, here of size 10:\n",
      "\n",
      ">>> np.dtype([('hello',(np.int64,3)),('world',np.void,10)])\n",
      "dtype([('hello', '<i8', (3,)), ('world', 'V10')])\n",
      "\n",
      "Subdivide ``int16`` into 2 ``int8``'s, called x and y.  0 and 1 are\n",
      "the offsets in bytes:\n",
      "\n",
      ">>> np.dtype((np.int16, {'x':(np.int8,0), 'y':(np.int8,1)}))\n",
      "dtype((numpy.int16, [('x', 'i1'), ('y', 'i1')]))\n",
      "\n",
      "Using dictionaries.  Two fields named 'gender' and 'age':\n",
      "\n",
      ">>> np.dtype({'names':['gender','age'], 'formats':['S1',np.uint8]})\n",
      "dtype([('gender', 'S1'), ('age', 'u1')])\n",
      "\n",
      "Offsets in bytes, here 0 and 25:\n",
      "\n",
      ">>> np.dtype({'surname':('S25',0),'age':(np.uint8,25)})\n",
      "dtype([('surname', 'S25'), ('age', 'u1')])"
     ]
    }
   ],
   "source": [
    "arr.dtype?"
   ]
  },
  {
   "cell_type": "code",
   "execution_count": 21,
   "metadata": {},
   "outputs": [
    {
     "name": "stdout",
     "output_type": "stream",
     "text": [
      "Default dtype: int32\n",
      "Array with dtype 'int32': [1 2 3 4]\n",
      "Data type of arr_int32: int32\n",
      "Array with dtype 'float32': [1. 2. 3.]\n",
      "Data type of arr_float32: float32\n",
      "Array with complex dtype: [1.+0.j 2.+0.j 3.+0.j]\n",
      "Data type of arr_complex: complex128\n"
     ]
    }
   ],
   "source": [
    "import numpy as np\n",
    "\n",
    "# Creating an array with default data type (usually float64)\n",
    "arr_default = np.array([1, 2, 3, 4])\n",
    "print(\"Default dtype:\", arr_default.dtype)  # Output: int64 (or float64, depending on the input)\n",
    "\n",
    "# Creating an array with int32 dtype\n",
    "arr_int32 = np.array([1, 2, 3, 4], dtype='int32')\n",
    "print(\"Array with dtype 'int32':\", arr_int32)\n",
    "print(\"Data type of arr_int32:\", arr_int32.dtype)  # Output: int32\n",
    "\n",
    "# Creating an array with float32 dtype\n",
    "arr_float32 = np.array([1.0, 2.0, 3.0], dtype='float32')\n",
    "print(\"Array with dtype 'float32':\", arr_float32)\n",
    "print(\"Data type of arr_float32:\", arr_float32.dtype)  # Output: float32\n",
    "\n",
    "# Creating an array with complex numbers\n",
    "arr_complex = np.array([1, 2, 3], dtype='complex')\n",
    "print(\"Array with complex dtype:\", arr_complex)\n",
    "print(\"Data type of arr_complex:\", arr_complex.dtype)  # Output: complex128 (default for complex)"
   ]
  },
  {
   "cell_type": "code",
   "execution_count": 22,
   "metadata": {},
   "outputs": [],
   "source": [
    "arr_2d = np.array([[1,2,3],[5,6,7]])"
   ]
  },
  {
   "cell_type": "code",
   "execution_count": 23,
   "metadata": {},
   "outputs": [
    {
     "data": {
      "text/plain": [
       "(2, 3)"
      ]
     },
     "execution_count": 23,
     "metadata": {},
     "output_type": "execute_result"
    }
   ],
   "source": [
    "arr_2d.shape"
   ]
  },
  {
   "cell_type": "code",
   "execution_count": 24,
   "metadata": {},
   "outputs": [],
   "source": [
    "arr_3d = np.array([[[1,2,3],[2,3,4],[4,5,6]],[[4,5,6],[7,8,9],[10,11,12]]])"
   ]
  },
  {
   "cell_type": "code",
   "execution_count": 25,
   "metadata": {},
   "outputs": [
    {
     "data": {
      "text/plain": [
       "(2, 3, 3)"
      ]
     },
     "execution_count": 25,
     "metadata": {},
     "output_type": "execute_result"
    }
   ],
   "source": [
    "arr_3d.shape"
   ]
  },
  {
   "cell_type": "code",
   "execution_count": 28,
   "metadata": {},
   "outputs": [
    {
     "data": {
      "text/plain": [
       "array([ 0,  1,  2,  3,  4,  5,  6,  7,  8,  9, 10, 11, 12, 13, 14, 15])"
      ]
     },
     "execution_count": 28,
     "metadata": {},
     "output_type": "execute_result"
    }
   ],
   "source": [
    "arr_sample = np.array(range(0,16))\n",
    "arr_sample"
   ]
  },
  {
   "cell_type": "code",
   "execution_count": 29,
   "metadata": {},
   "outputs": [],
   "source": [
    "arr_sample = arr_sample.reshape((4,4))"
   ]
  },
  {
   "cell_type": "code",
   "execution_count": 30,
   "metadata": {},
   "outputs": [
    {
     "data": {
      "text/plain": [
       "(4, 4)"
      ]
     },
     "execution_count": 30,
     "metadata": {},
     "output_type": "execute_result"
    }
   ],
   "source": [
    "arr_sample.shape"
   ]
  },
  {
   "cell_type": "code",
   "execution_count": 31,
   "metadata": {},
   "outputs": [
    {
     "data": {
      "text/plain": [
       "array([[ 0,  1,  2,  3],\n",
       "       [ 4,  5,  6,  7],\n",
       "       [ 8,  9, 10, 11],\n",
       "       [12, 13, 14, 15]])"
      ]
     },
     "execution_count": 31,
     "metadata": {},
     "output_type": "execute_result"
    }
   ],
   "source": [
    "arr_sample"
   ]
  },
  {
   "cell_type": "code",
   "execution_count": 32,
   "metadata": {},
   "outputs": [],
   "source": [
    "arr2 = arr_sample.T"
   ]
  },
  {
   "cell_type": "code",
   "execution_count": 33,
   "metadata": {},
   "outputs": [],
   "source": [
    "arr_resultant = arr_sample+arr2"
   ]
  },
  {
   "cell_type": "code",
   "execution_count": 34,
   "metadata": {},
   "outputs": [
    {
     "data": {
      "text/plain": [
       "array([[ 0,  5, 10, 15],\n",
       "       [ 5, 10, 15, 20],\n",
       "       [10, 15, 20, 25],\n",
       "       [15, 20, 25, 30]])"
      ]
     },
     "execution_count": 34,
     "metadata": {},
     "output_type": "execute_result"
    }
   ],
   "source": [
    "arr_resultant"
   ]
  },
  {
   "cell_type": "code",
   "execution_count": 35,
   "metadata": {},
   "outputs": [],
   "source": [
    "arr_resultant = arr_sample-arr2"
   ]
  },
  {
   "cell_type": "code",
   "execution_count": 36,
   "metadata": {},
   "outputs": [
    {
     "data": {
      "text/plain": [
       "array([[ 0, -3, -6, -9],\n",
       "       [ 3,  0, -3, -6],\n",
       "       [ 6,  3,  0, -3],\n",
       "       [ 9,  6,  3,  0]])"
      ]
     },
     "execution_count": 36,
     "metadata": {},
     "output_type": "execute_result"
    }
   ],
   "source": [
    "arr_resultant"
   ]
  },
  {
   "cell_type": "code",
   "execution_count": 37,
   "metadata": {},
   "outputs": [
    {
     "data": {
      "text/plain": [
       "array([[ 0,  5, 10, 15],\n",
       "       [ 5, 10, 15, 20],\n",
       "       [10, 15, 20, 25],\n",
       "       [15, 20, 25, 30]])"
      ]
     },
     "execution_count": 37,
     "metadata": {},
     "output_type": "execute_result"
    }
   ],
   "source": [
    "np.add(arr_sample,arr2)"
   ]
  },
  {
   "cell_type": "code",
   "execution_count": 38,
   "metadata": {},
   "outputs": [
    {
     "data": {
      "text/plain": [
       "array([[ 0, -3, -6, -9],\n",
       "       [ 3,  0, -3, -6],\n",
       "       [ 6,  3,  0, -3],\n",
       "       [ 9,  6,  3,  0]])"
      ]
     },
     "execution_count": 38,
     "metadata": {},
     "output_type": "execute_result"
    }
   ],
   "source": [
    "np.subtract(arr_sample,arr2)"
   ]
  },
  {
   "cell_type": "code",
   "execution_count": 39,
   "metadata": {},
   "outputs": [
    {
     "data": {
      "text/plain": [
       "array([[4, 1],\n",
       "       [2, 2]])"
      ]
     },
     "execution_count": 39,
     "metadata": {},
     "output_type": "execute_result"
    }
   ],
   "source": [
    "a = [[1, 0], [0, 1]]\n",
    "b = [[4, 1], [2, 2]]\n",
    "np.dot(a,b)"
   ]
  },
  {
   "cell_type": "code",
   "execution_count": 40,
   "metadata": {},
   "outputs": [
    {
     "data": {
      "text/plain": [
       "array([[4, 0],\n",
       "       [0, 2]])"
      ]
     },
     "execution_count": 40,
     "metadata": {},
     "output_type": "execute_result"
    }
   ],
   "source": [
    "np.multiply(a,b)"
   ]
  },
  {
   "cell_type": "code",
   "execution_count": 42,
   "metadata": {},
   "outputs": [
    {
     "name": "stdout",
     "output_type": "stream",
     "text": [
      "\u001b[1;31mType:\u001b[0m        float\n",
      "\u001b[1;31mString form:\u001b[0m nan\n",
      "\u001b[1;31mDocstring:\u001b[0m   Convert a string or number to a floating point number, if possible."
     ]
    }
   ],
   "source": [
    "np.nan?"
   ]
  },
  {
   "cell_type": "code",
   "execution_count": 48,
   "metadata": {},
   "outputs": [
    {
     "data": {
      "text/plain": [
       "array([[ 0,  1,  2,  3,  0,  4,  8, 12],\n",
       "       [ 4,  5,  6,  7,  1,  5,  9, 13],\n",
       "       [ 8,  9, 10, 11,  2,  6, 10, 14],\n",
       "       [12, 13, 14, 15,  3,  7, 11, 15]])"
      ]
     },
     "execution_count": 48,
     "metadata": {},
     "output_type": "execute_result"
    }
   ],
   "source": [
    "np.concatenate([arr_sample,arr2],axis = 1)"
   ]
  },
  {
   "cell_type": "code",
   "execution_count": 44,
   "metadata": {},
   "outputs": [
    {
     "data": {
      "text/plain": [
       "array([[ 0,  1,  2,  3],\n",
       "       [ 4,  5,  6,  7],\n",
       "       [ 8,  9, 10, 11],\n",
       "       [12, 13, 14, 15]])"
      ]
     },
     "execution_count": 44,
     "metadata": {},
     "output_type": "execute_result"
    }
   ],
   "source": [
    "arr_sample"
   ]
  },
  {
   "cell_type": "code",
   "execution_count": 45,
   "metadata": {},
   "outputs": [
    {
     "data": {
      "text/plain": [
       "array([[ 0,  4,  8, 12],\n",
       "       [ 1,  5,  9, 13],\n",
       "       [ 2,  6, 10, 14],\n",
       "       [ 3,  7, 11, 15]])"
      ]
     },
     "execution_count": 45,
     "metadata": {},
     "output_type": "execute_result"
    }
   ],
   "source": [
    "arr2"
   ]
  },
  {
   "cell_type": "code",
   "execution_count": 49,
   "metadata": {},
   "outputs": [
    {
     "data": {
      "text/plain": [
       "array([[1., 0.],\n",
       "       [0., 1.]])"
      ]
     },
     "execution_count": 49,
     "metadata": {},
     "output_type": "execute_result"
    }
   ],
   "source": [
    "np.eye(2)"
   ]
  },
  {
   "cell_type": "code",
   "execution_count": 50,
   "metadata": {},
   "outputs": [
    {
     "data": {
      "text/plain": [
       "array([[1., 0., 0., 0., 0., 0., 0.],\n",
       "       [0., 1., 0., 0., 0., 0., 0.],\n",
       "       [0., 0., 1., 0., 0., 0., 0.],\n",
       "       [0., 0., 0., 1., 0., 0., 0.],\n",
       "       [0., 0., 0., 0., 1., 0., 0.],\n",
       "       [0., 0., 0., 0., 0., 1., 0.],\n",
       "       [0., 0., 0., 0., 0., 0., 1.]])"
      ]
     },
     "execution_count": 50,
     "metadata": {},
     "output_type": "execute_result"
    }
   ],
   "source": [
    "np.eye(7)"
   ]
  },
  {
   "cell_type": "code",
   "execution_count": 51,
   "metadata": {},
   "outputs": [
    {
     "data": {
      "text/plain": [
       "array([[1., 1., 1.],\n",
       "       [1., 1., 1.],\n",
       "       [1., 1., 1.]])"
      ]
     },
     "execution_count": 51,
     "metadata": {},
     "output_type": "execute_result"
    }
   ],
   "source": [
    "np.ones([3,3])"
   ]
  },
  {
   "cell_type": "code",
   "execution_count": 52,
   "metadata": {},
   "outputs": [
    {
     "data": {
      "text/plain": [
       "array([ 1,  2,  3,  5, 10])"
      ]
     },
     "execution_count": 52,
     "metadata": {},
     "output_type": "execute_result"
    }
   ],
   "source": [
    "np.sort([1,2,3,10,5])"
   ]
  },
  {
   "cell_type": "code",
   "execution_count": null,
   "metadata": {},
   "outputs": [],
   "source": []
  }
 ],
 "metadata": {
  "kernelspec": {
   "display_name": "base",
   "language": "python",
   "name": "python3"
  },
  "language_info": {
   "codemirror_mode": {
    "name": "ipython",
    "version": 3
   },
   "file_extension": ".py",
   "mimetype": "text/x-python",
   "name": "python",
   "nbconvert_exporter": "python",
   "pygments_lexer": "ipython3",
   "version": "3.11.5"
  }
 },
 "nbformat": 4,
 "nbformat_minor": 2
}
