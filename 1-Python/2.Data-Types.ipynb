{
 "cells": [
  {
   "cell_type": "markdown",
   "metadata": {},
   "source": [
    "## 2. Data Types"
   ]
  },
  {
   "cell_type": "markdown",
   "metadata": {},
   "source": [
    "- Integer              : Anything you can count, 0,1,2.....\n",
    "- Floating             : With decimal, 1.2, 5.96\n",
    "- Boolean or bool      : True or False statements\n",
    "- String or str        : Words or letters in double inverted commas, '' or \"\", to insert para \"\"\" \"\"\"\n",
    "- Compplex numbers     : C = 1 + 5J"
   ]
  },
  {
   "cell_type": "markdown",
   "metadata": {},
   "source": []
  }
 ],
 "metadata": {
  "language_info": {
   "name": "python"
  }
 },
 "nbformat": 4,
 "nbformat_minor": 2
}
