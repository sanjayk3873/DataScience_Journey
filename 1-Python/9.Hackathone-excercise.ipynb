{
 "cells": [
  {
   "cell_type": "markdown",
   "metadata": {},
   "source": [
    "Given an integer, , perform the following conditional actions:\n",
    "\n",
    "1. If  is odd, print Weird\n",
    "2. If  is even and in the inclusive range of 2 to 5, print Not Weird\n",
    "3. If  is even and in the inclusive range of 6 to 20, print Weird\n",
    "4. If  is even and greater than 20, print Not Weird"
   ]
  },
  {
   "cell_type": "code",
   "execution_count": 20,
   "metadata": {},
   "outputs": [
    {
     "name": "stdout",
     "output_type": "stream",
     "text": [
      "not weird\n"
     ]
    }
   ],
   "source": [
    "n = int(input().strip())\n",
    "if n % 2 != 0:\n",
    "    print(\"weird\")\n",
    "elif n % 2 == 0 and 2<= n <= 5:\n",
    "    print(\"not weird\")\n",
    "elif n % 2 == 0 and 6<= n <=20:\n",
    "    print(\"weird\")\n",
    "else:\n",
    "    print(\"not weird\")"
   ]
  },
  {
   "cell_type": "markdown",
   "metadata": {},
   "source": []
  }
 ],
 "metadata": {
  "kernelspec": {
   "display_name": "base",
   "language": "python",
   "name": "python3"
  },
  "language_info": {
   "codemirror_mode": {
    "name": "ipython",
    "version": 3
   },
   "file_extension": ".py",
   "mimetype": "text/x-python",
   "name": "python",
   "nbconvert_exporter": "python",
   "pygments_lexer": "ipython3",
   "version": "3.11.5"
  }
 },
 "nbformat": 4,
 "nbformat_minor": 2
}
